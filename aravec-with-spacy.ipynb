{
 "cells": [
  {
   "cell_type": "markdown",
   "metadata": {},
   "source": [
    "## Use Aravec as spaCy model\n",
    "\n",
    "In this notebook we show how to load aravec model with spaCy library\n",
    "\n",
    "## Steps\n",
    "\n",
    "- Install the required modules\n",
    "- load the aravec model model\n",
    "- export the model and gzip it\n",
    "- initialize the spaCy model\n",
    "- load the model into spaCy\n",
    "- add the preprocessing function\n",
    "- enjoy aravec from within spaCy !"
   ]
  },
  {
   "cell_type": "markdown",
   "metadata": {},
   "source": [
    "## Install the required modules"
   ]
  },
  {
   "cell_type": "code",
   "execution_count": 1,
   "metadata": {
    "ExecuteTime": {
     "end_time": "2020-04-27T22:45:44.689719Z",
     "start_time": "2020-04-27T22:45:42.787139Z"
    },
    "scrolled": true
   },
   "outputs": [
    {
     "name": "stdout",
     "output_type": "stream",
     "text": [
      "Requirement already satisfied: gensim in /home/ali/anaconda3/lib/python3.7/site-packages (3.8.2)\n",
      "Requirement already satisfied: spacy in /home/ali/anaconda3/lib/python3.7/site-packages (2.2.3)\n",
      "Requirement already satisfied: nltk in /home/ali/anaconda3/lib/python3.7/site-packages (3.4.5)\n",
      "Requirement already satisfied: numpy>=1.11.3 in /home/ali/anaconda3/lib/python3.7/site-packages (from gensim) (1.18.0)\n",
      "Requirement already satisfied: scipy>=1.0.0 in /home/ali/anaconda3/lib/python3.7/site-packages (from gensim) (1.4.1)\n",
      "Requirement already satisfied: smart-open>=1.8.1 in /home/ali/anaconda3/lib/python3.7/site-packages (from gensim) (1.11.1)\n",
      "Requirement already satisfied: six>=1.5.0 in /home/ali/anaconda3/lib/python3.7/site-packages (from gensim) (1.12.0)\n",
      "Requirement already satisfied: catalogue<1.1.0,>=0.0.7 in /home/ali/anaconda3/lib/python3.7/site-packages (from spacy) (1.0.0)\n",
      "Requirement already satisfied: thinc<7.4.0,>=7.3.0 in /home/ali/anaconda3/lib/python3.7/site-packages (from spacy) (7.3.1)\n",
      "Requirement already satisfied: murmurhash<1.1.0,>=0.28.0 in /home/ali/anaconda3/lib/python3.7/site-packages (from spacy) (1.0.2)\n",
      "Requirement already satisfied: requests<3.0.0,>=2.13.0 in /home/ali/anaconda3/lib/python3.7/site-packages (from spacy) (2.22.0)\n",
      "Requirement already satisfied: cymem<2.1.0,>=2.0.2 in /home/ali/anaconda3/lib/python3.7/site-packages (from spacy) (2.0.3)\n",
      "Requirement already satisfied: preshed<3.1.0,>=3.0.2 in /home/ali/anaconda3/lib/python3.7/site-packages (from spacy) (3.0.2)\n",
      "Requirement already satisfied: wasabi<1.1.0,>=0.4.0 in /home/ali/anaconda3/lib/python3.7/site-packages (from spacy) (0.6.0)\n",
      "Requirement already satisfied: blis<0.5.0,>=0.4.0 in /home/ali/anaconda3/lib/python3.7/site-packages (from spacy) (0.4.1)\n",
      "Requirement already satisfied: plac<1.2.0,>=0.9.6 in /home/ali/anaconda3/lib/python3.7/site-packages (from spacy) (1.1.3)\n",
      "Requirement already satisfied: setuptools in /home/ali/anaconda3/lib/python3.7/site-packages (from spacy) (41.4.0)\n",
      "Requirement already satisfied: srsly<1.1.0,>=0.1.0 in /home/ali/anaconda3/lib/python3.7/site-packages (from spacy) (1.0.1)\n",
      "Requirement already satisfied: boto in /home/ali/anaconda3/lib/python3.7/site-packages (from smart-open>=1.8.1->gensim) (2.49.0)\n",
      "Requirement already satisfied: boto3 in /home/ali/anaconda3/lib/python3.7/site-packages (from smart-open>=1.8.1->gensim) (1.12.47)\n",
      "Requirement already satisfied: importlib-metadata>=0.20; python_version < \"3.8\" in /home/ali/anaconda3/lib/python3.7/site-packages (from catalogue<1.1.0,>=0.0.7->spacy) (0.23)\n",
      "Requirement already satisfied: tqdm<5.0.0,>=4.10.0 in /home/ali/anaconda3/lib/python3.7/site-packages (from thinc<7.4.0,>=7.3.0->spacy) (4.41.1)\n",
      "Requirement already satisfied: urllib3!=1.25.0,!=1.25.1,<1.26,>=1.21.1 in /home/ali/anaconda3/lib/python3.7/site-packages (from requests<3.0.0,>=2.13.0->spacy) (1.25.3)\n",
      "Requirement already satisfied: certifi>=2017.4.17 in /home/ali/anaconda3/lib/python3.7/site-packages (from requests<3.0.0,>=2.13.0->spacy) (2019.6.16)\n",
      "Requirement already satisfied: chardet<3.1.0,>=3.0.2 in /home/ali/anaconda3/lib/python3.7/site-packages (from requests<3.0.0,>=2.13.0->spacy) (3.0.4)\n",
      "Requirement already satisfied: idna<2.9,>=2.5 in /home/ali/anaconda3/lib/python3.7/site-packages (from requests<3.0.0,>=2.13.0->spacy) (2.8)\n",
      "Requirement already satisfied: s3transfer<0.4.0,>=0.3.0 in /home/ali/anaconda3/lib/python3.7/site-packages (from boto3->smart-open>=1.8.1->gensim) (0.3.3)\n",
      "Requirement already satisfied: jmespath<1.0.0,>=0.7.1 in /home/ali/anaconda3/lib/python3.7/site-packages (from boto3->smart-open>=1.8.1->gensim) (0.9.5)\n",
      "Requirement already satisfied: botocore<1.16.0,>=1.15.47 in /home/ali/anaconda3/lib/python3.7/site-packages (from boto3->smart-open>=1.8.1->gensim) (1.15.47)\n",
      "Requirement already satisfied: zipp>=0.5 in /home/ali/anaconda3/lib/python3.7/site-packages (from importlib-metadata>=0.20; python_version < \"3.8\"->catalogue<1.1.0,>=0.0.7->spacy) (0.6.0)\n",
      "Requirement already satisfied: docutils<0.16,>=0.10 in /home/ali/anaconda3/lib/python3.7/site-packages (from botocore<1.16.0,>=1.15.47->boto3->smart-open>=1.8.1->gensim) (0.15.2)\n",
      "Requirement already satisfied: python-dateutil<3.0.0,>=2.1 in /home/ali/anaconda3/lib/python3.7/site-packages (from botocore<1.16.0,>=1.15.47->boto3->smart-open>=1.8.1->gensim) (2.8.0)\n",
      "Requirement already satisfied: more-itertools in /home/ali/anaconda3/lib/python3.7/site-packages (from zipp>=0.5->importlib-metadata>=0.20; python_version < \"3.8\"->catalogue<1.1.0,>=0.0.7->spacy) (7.2.0)\n"
     ]
    }
   ],
   "source": [
    "!pip install gensim spacy nltk"
   ]
  },
  {
   "cell_type": "markdown",
   "metadata": {},
   "source": [
    "## Load aravec\n",
    "Download any model you would like from the [repository](https://github.com/bakrianoo/aravec), and follow the steps to load it in your code"
   ]
  },
  {
   "cell_type": "code",
   "execution_count": 2,
   "metadata": {
    "ExecuteTime": {
     "end_time": "2020-04-28T13:04:23.895641Z",
     "start_time": "2020-04-28T13:04:22.703261Z"
    }
   },
   "outputs": [],
   "source": [
    "import gensim\n",
    "import re\n",
    "\n",
    "model = gensim.models.Word2Vec.load(\"aravec/WWW-CBOW/WWW-CBOW\")"
   ]
  },
  {
   "cell_type": "markdown",
   "metadata": {},
   "source": [
    "### Don't forget about the preprocessing function"
   ]
  },
  {
   "cell_type": "code",
   "execution_count": 3,
   "metadata": {
    "ExecuteTime": {
     "end_time": "2020-04-28T13:04:27.746935Z",
     "start_time": "2020-04-28T13:04:27.735927Z"
    }
   },
   "outputs": [],
   "source": [
    "def clean_str(text):\n",
    "    search = [\"أ\", \"إ\", \"آ\", \"ة\", \"_\", \"-\", \"/\", \".\", \"،\", \" و \", \" يا \",\n",
    "              '\"', \"ـ\", \"'\", \"ى\", \"\\\\\", '\\n', '\\t', '&quot;', '?', '؟', '!']\n",
    "    replace = [\"ا\", \"ا\", \"ا\", \"ه\", \" \", \" \", \"\", \"\", \"\", \" و\",\n",
    "               \" يا\", \"\", \"\", \"\", \"ي\", \"\", ' ', ' ', ' ', ' ? ', ' ؟ ', ' ! ']\n",
    "\n",
    "    #remove tashkeel\n",
    "    p_tashkeel = re.compile(r'[\\u0617-\\u061A\\u064B-\\u0652]')\n",
    "    text = re.sub(p_tashkeel, \"\", text)\n",
    "\n",
    "    #remove longation\n",
    "    p_longation = re.compile(r'(.)\\1+')\n",
    "    subst = r\"\\1\\1\"\n",
    "    text = re.sub(p_longation, subst, text)\n",
    "\n",
    "    text = text.replace('وو', 'و')\n",
    "    text = text.replace('يي', 'ي')\n",
    "    text = text.replace('اا', 'ا')\n",
    "\n",
    "    for i in range(0, len(search)):\n",
    "        text = text.replace(search[i], replace[i])\n",
    "\n",
    "    #trim\n",
    "    text = text.strip()\n",
    "\n",
    "    return text"
   ]
  },
  {
   "cell_type": "code",
   "execution_count": 4,
   "metadata": {
    "ExecuteTime": {
     "end_time": "2020-04-28T13:04:29.484802Z",
     "start_time": "2020-04-28T13:04:29.319208Z"
    }
   },
   "outputs": [
    {
     "name": "stdout",
     "output_type": "stream",
     "text": [
      "يحب 0.6261304020881653\n",
      "تعشق 0.56817626953125\n",
      "ويعشق 0.5610277652740479\n",
      "يهوي 0.5600417256355286\n",
      "لايحب 0.5520501136779785\n",
      "يعشقه 0.5470657348632812\n",
      "يعشقها 0.5283931493759155\n",
      "اعشق 0.5102519989013672\n",
      "يعشقون 0.509077787399292\n",
      "يلاعب 0.4903143346309662\n"
     ]
    }
   ],
   "source": [
    "word1 = clean_str('يعشق')\n",
    "\n",
    "# find and print the most similar terms to a word\n",
    "most_similar = model.wv.most_similar(word1)\n",
    "for term, score in most_similar:\n",
    "    print(term, score)\n"
   ]
  },
  {
   "cell_type": "markdown",
   "metadata": {},
   "source": [
    "everything is working just fine, now we will create a folder to export the model to and build the spaCy model"
   ]
  },
  {
   "cell_type": "markdown",
   "metadata": {},
   "source": [
    "## Export the model and gzip it"
   ]
  },
  {
   "cell_type": "code",
   "execution_count": 5,
   "metadata": {
    "ExecuteTime": {
     "end_time": "2020-04-28T13:04:35.872005Z",
     "start_time": "2020-04-28T13:04:35.750353Z"
    }
   },
   "outputs": [],
   "source": [
    "%mkdir spacyModel"
   ]
  },
  {
   "cell_type": "code",
   "execution_count": 6,
   "metadata": {
    "ExecuteTime": {
     "end_time": "2020-04-28T13:05:07.649631Z",
     "start_time": "2020-04-28T13:04:37.108481Z"
    }
   },
   "outputs": [],
   "source": [
    "model.wv.save_word2vec_format(\"./spacyModel/aravec.txt\")"
   ]
  },
  {
   "cell_type": "code",
   "execution_count": 7,
   "metadata": {
    "ExecuteTime": {
     "end_time": "2020-04-28T13:05:47.899536Z",
     "start_time": "2020-04-28T13:05:07.650778Z"
    }
   },
   "outputs": [],
   "source": [
    "!gzip ./spacyModel/aravec.txt "
   ]
  },
  {
   "cell_type": "markdown",
   "metadata": {},
   "source": [
    "## Initialize the spaCy model "
   ]
  },
  {
   "cell_type": "code",
   "execution_count": 8,
   "metadata": {
    "ExecuteTime": {
     "end_time": "2020-04-28T13:06:08.570498Z",
     "start_time": "2020-04-28T13:05:49.692840Z"
    }
   },
   "outputs": [
    {
     "name": "stdout",
     "output_type": "stream",
     "text": [
      "\u001b[2K\u001b[38;5;2m✔ Successfully created model\u001b[0m\n",
      "146273it [00:14, 10104.67it/s]del/aravec.txt.gz\n",
      "\u001b[2K\u001b[38;5;2m✔ Loaded vectors from spacyModel/aravec.txt.gz\u001b[0m\n",
      "\u001b[38;5;2m✔ Sucessfully compiled vocab\u001b[0m\n",
      "146466 entries, 146273 vectors\n"
     ]
    }
   ],
   "source": [
    "!python -m spacy  init-model ar spacy.aravec.model --vectors-loc ./spacyModel/aravec.txt.gz"
   ]
  },
  {
   "cell_type": "markdown",
   "metadata": {},
   "source": [
    "> this will create a folder named `/spacy.aravec.model` inside your current directory"
   ]
  },
  {
   "cell_type": "markdown",
   "metadata": {},
   "source": [
    "## Load it into spaCy"
   ]
  },
  {
   "cell_type": "code",
   "execution_count": 9,
   "metadata": {
    "ExecuteTime": {
     "end_time": "2020-04-28T13:06:25.120513Z",
     "start_time": "2020-04-28T13:06:24.032773Z"
    }
   },
   "outputs": [],
   "source": [
    "import spacy\n",
    "nlp = spacy.load(\"./spacy.aravec.model/\")"
   ]
  },
  {
   "cell_type": "code",
   "execution_count": 10,
   "metadata": {
    "ExecuteTime": {
     "end_time": "2020-04-28T13:06:25.987541Z",
     "start_time": "2020-04-28T13:06:25.974711Z"
    },
    "scrolled": false
   },
   "outputs": [
    {
     "data": {
      "text/plain": [
       "array([0., 0., 0., 0., 0., 0., 0., 0., 0., 0., 0., 0., 0., 0., 0., 0., 0.,\n",
       "       0., 0., 0., 0., 0., 0., 0., 0., 0., 0., 0., 0., 0., 0., 0., 0., 0.,\n",
       "       0., 0., 0., 0., 0., 0., 0., 0., 0., 0., 0., 0., 0., 0., 0., 0., 0.,\n",
       "       0., 0., 0., 0., 0., 0., 0., 0., 0., 0., 0., 0., 0., 0., 0., 0., 0.,\n",
       "       0., 0., 0., 0., 0., 0., 0., 0., 0., 0., 0., 0., 0., 0., 0., 0., 0.,\n",
       "       0., 0., 0., 0., 0., 0., 0., 0., 0., 0., 0., 0., 0., 0., 0., 0., 0.,\n",
       "       0., 0., 0., 0., 0., 0., 0., 0., 0., 0., 0., 0., 0., 0., 0., 0., 0.,\n",
       "       0., 0., 0., 0., 0., 0., 0., 0., 0., 0., 0., 0., 0., 0., 0., 0., 0.,\n",
       "       0., 0., 0., 0., 0., 0., 0., 0., 0., 0., 0., 0., 0., 0., 0., 0., 0.,\n",
       "       0., 0., 0., 0., 0., 0., 0., 0., 0., 0., 0., 0., 0., 0., 0., 0., 0.,\n",
       "       0., 0., 0., 0., 0., 0., 0., 0., 0., 0., 0., 0., 0., 0., 0., 0., 0.,\n",
       "       0., 0., 0., 0., 0., 0., 0., 0., 0., 0., 0., 0., 0., 0., 0., 0., 0.,\n",
       "       0., 0., 0., 0., 0., 0., 0., 0., 0., 0., 0., 0., 0., 0., 0., 0., 0.,\n",
       "       0., 0., 0., 0., 0., 0., 0., 0., 0., 0., 0., 0., 0., 0., 0., 0., 0.,\n",
       "       0., 0., 0., 0., 0., 0., 0., 0., 0., 0., 0., 0., 0., 0., 0., 0., 0.,\n",
       "       0., 0., 0., 0., 0., 0., 0., 0., 0., 0., 0., 0., 0., 0., 0., 0., 0.,\n",
       "       0., 0., 0., 0., 0., 0., 0., 0., 0., 0., 0., 0., 0., 0., 0., 0., 0.,\n",
       "       0., 0., 0., 0., 0., 0., 0., 0., 0., 0., 0.], dtype=float32)"
      ]
     },
     "execution_count": 10,
     "metadata": {},
     "output_type": "execute_result"
    }
   ],
   "source": [
    "nlp(\"قطة\").vector"
   ]
  },
  {
   "cell_type": "markdown",
   "metadata": {},
   "source": [
    "As you can see we have no vectors at all for this token for example, but that's because we didn't apply the preprocessor step to the text, let's add it to the model."
   ]
  },
  {
   "cell_type": "markdown",
   "metadata": {},
   "source": [
    "## Add the preprocessor function"
   ]
  },
  {
   "cell_type": "code",
   "execution_count": 11,
   "metadata": {
    "ExecuteTime": {
     "end_time": "2020-04-28T13:06:28.044784Z",
     "start_time": "2020-04-28T13:06:28.041847Z"
    }
   },
   "outputs": [],
   "source": [
    "class Preprocessor:\n",
    "    def __init__(self, tokenizer, **cfg):\n",
    "        self.tokenizer = tokenizer\n",
    "\n",
    "    def __call__(self, text):\n",
    "        preprocessed = clean_str(text)\n",
    "        return self.tokenizer(preprocessed)"
   ]
  },
  {
   "cell_type": "code",
   "execution_count": 12,
   "metadata": {
    "ExecuteTime": {
     "end_time": "2020-04-28T13:06:28.449671Z",
     "start_time": "2020-04-28T13:06:28.440981Z"
    }
   },
   "outputs": [],
   "source": [
    "nlp.tokenizer = Preprocessor(nlp.tokenizer)"
   ]
  },
  {
   "cell_type": "code",
   "execution_count": 13,
   "metadata": {
    "ExecuteTime": {
     "end_time": "2020-04-28T13:06:29.413081Z",
     "start_time": "2020-04-28T13:06:29.406765Z"
    },
    "scrolled": false
   },
   "outputs": [
    {
     "data": {
      "text/plain": [
       "array([ 2.8480022 , -0.92140836, -0.32840294,  1.9604828 , -3.9761736 ,\n",
       "       -0.63699883,  0.52591836, -0.49163073, -0.9315454 ,  1.4118265 ,\n",
       "       -1.8157891 ,  0.02102472,  2.465533  , -0.60494626, -0.8643424 ,\n",
       "       -1.8974758 ,  2.8115346 ,  1.7856901 ,  0.60246867, -2.5311856 ,\n",
       "        0.6646705 , -0.02800057,  2.6766527 ,  1.1444625 , -2.3182938 ,\n",
       "       -0.23770235, -0.95880896, -2.370305  ,  0.21067968, -0.9180316 ,\n",
       "        1.0837697 , -1.339369  ,  1.0470312 , -0.85747755, -0.3612395 ,\n",
       "       -0.04006149,  0.6157008 , -2.3505592 ,  1.0696003 ,  0.18124492,\n",
       "       -0.02356418, -2.4026926 ,  0.29490086, -1.3148676 , -2.0697622 ,\n",
       "        0.3080379 ,  1.6946433 ,  1.5146562 ,  3.6492367 ,  1.0488898 ,\n",
       "       -1.1743469 ,  1.4775808 , -1.3201469 ,  0.7495463 ,  1.5690784 ,\n",
       "        1.9071016 , -2.5420423 ,  1.9932128 , -0.24944896,  0.26473418,\n",
       "       -1.0503093 , -3.358672  ,  4.476831  , -1.9207832 , -0.13164501,\n",
       "        1.6348315 ,  2.1712348 , -0.93513036, -0.13917194, -2.4897444 ,\n",
       "       -1.4431988 , -0.11028607,  0.621125  ,  0.04114955,  0.60772216,\n",
       "       -1.0539006 ,  0.54660356,  1.8539267 ,  0.84864527,  1.1994708 ,\n",
       "        1.5139389 , -1.5308863 , -0.3197682 ,  1.9433722 ,  0.3416827 ,\n",
       "       -1.8583528 ,  1.0581896 , -1.9663852 , -0.27783167,  1.0856248 ,\n",
       "        1.5606643 , -0.5507515 ,  0.56885016,  1.572512  ,  0.7030589 ,\n",
       "        1.8565292 , -0.6253444 ,  0.59247565,  2.0386443 ,  1.6309558 ,\n",
       "        2.4185452 , -0.35855407,  2.5073535 ,  0.4536195 ,  2.4189994 ,\n",
       "        1.1247493 ,  1.8645347 , -1.3245199 ,  0.9297096 , -1.8309639 ,\n",
       "        0.81354916, -1.9597459 , -0.83971024, -0.14775138,  0.7098084 ,\n",
       "       -1.4433615 ,  2.8073905 , -1.5966089 ,  0.57192993,  0.44112784,\n",
       "        1.8212596 , -1.4691663 , -2.5502663 , -2.3381224 ,  0.6965424 ,\n",
       "       -1.4628366 ,  1.3913196 ,  0.19644317, -2.769406  ,  1.0403574 ,\n",
       "        0.3013174 , -1.8129938 , -0.85538816, -3.0645225 , -0.73977894,\n",
       "        2.2941003 ,  1.5653523 ,  2.5514753 ,  0.8288557 ,  0.821251  ,\n",
       "        1.6494433 , -0.3175957 ,  0.31203187, -0.9573882 ,  4.0188065 ,\n",
       "       -1.3008224 , -1.1218699 , -0.6575579 ,  0.6310151 ,  0.14601739,\n",
       "        0.7944086 ,  1.1689497 , -0.8459515 , -1.2017424 , -1.8756242 ,\n",
       "        1.4895701 ,  0.4088955 , -0.3919507 ,  1.2562189 ,  2.7645562 ,\n",
       "       -2.1106534 , -2.1862814 , -0.6470407 ,  1.1706278 , -0.8592967 ,\n",
       "        0.39310977, -2.1612918 , -2.6888597 , -2.1270802 , -1.9622756 ,\n",
       "       -0.6435074 ,  1.7258254 ,  1.0705076 ,  0.42258823, -0.7393964 ,\n",
       "        0.9302261 , -1.5765985 , -1.3616138 ,  2.9096713 , -1.2590917 ,\n",
       "       -0.61572   , -1.8852203 ,  2.4155452 , -1.2542938 , -1.9885468 ,\n",
       "       -2.5308788 ,  0.9931308 , -0.91944087,  2.3824134 ,  0.06498696,\n",
       "       -0.54081625, -0.63009644,  0.5761239 , -0.30615458,  1.6545548 ,\n",
       "        2.067851  ,  1.6525438 ,  0.82691914, -0.68396175,  0.13256931,\n",
       "        0.74975157,  1.9692968 , -0.3565026 , -0.4742481 ,  0.8102725 ,\n",
       "        2.4678826 , -0.45294276,  0.27154002,  1.9983085 ,  1.3838485 ,\n",
       "        0.2960188 , -1.1965038 , -0.6617525 ,  1.4057294 ,  2.3864489 ,\n",
       "        1.2627273 , -0.9476176 , -2.7015457 ,  0.8134547 ,  1.7361219 ,\n",
       "        1.6439285 ,  0.461365  , -1.1065071 ,  1.065814  , -1.0025972 ,\n",
       "       -0.639128  ,  1.3190062 ,  0.46161965, -1.7641509 ,  0.63560504,\n",
       "       -3.214649  ,  0.77021354,  1.7927936 , -2.2706885 ,  0.27539983,\n",
       "        2.576098  ,  0.25869173,  0.89738655, -0.5693892 ,  0.9965475 ,\n",
       "       -0.38323423, -1.6451248 , -1.9473007 ,  1.209723  , -2.331572  ,\n",
       "       -0.14088106, -2.5752733 , -1.4384444 , -0.04466742,  2.0221837 ,\n",
       "       -0.5839719 ,  1.6939231 , -0.04657646, -1.144471  , -0.18171015,\n",
       "        0.14105847,  0.12110506,  0.1662227 ,  0.46449125,  0.11197978,\n",
       "        1.4150784 ,  0.4829627 , -1.7278935 ,  0.25948334,  0.8134669 ,\n",
       "       -0.5735841 ,  0.7123544 , -0.9699939 ,  1.7033286 , -1.7734455 ,\n",
       "        1.6083823 , -2.2359865 ,  1.1963795 , -0.8174046 ,  1.5426675 ,\n",
       "        1.4992703 ,  1.3182094 , -2.3316581 ,  3.6403735 , -0.64887893,\n",
       "        0.25966883, -0.70309263, -1.0763744 , -3.6335804 , -0.74170464,\n",
       "        1.9660562 ,  0.4604129 ,  1.0752337 ,  0.59101915,  1.0072871 ,\n",
       "        0.3043192 , -2.5798645 , -0.2506945 , -1.3234429 ,  1.6368748 ,\n",
       "       -2.5447733 ,  2.4495096 ,  0.11914596,  0.9795669 , -1.1602021 ],\n",
       "      dtype=float32)"
      ]
     },
     "execution_count": 13,
     "metadata": {},
     "output_type": "execute_result"
    }
   ],
   "source": [
    "nlp(\"قطة\").vector"
   ]
  },
  {
   "cell_type": "code",
   "execution_count": 14,
   "metadata": {
    "ExecuteTime": {
     "end_time": "2020-04-28T13:06:38.766034Z",
     "start_time": "2020-04-28T13:06:38.760647Z"
    }
   },
   "outputs": [],
   "source": [
    "cat = nlp(\"قطة\")\n",
    "dog = nlp(\"كلب\")\n",
    "book= nlp(\"كتاب\")"
   ]
  },
  {
   "cell_type": "code",
   "execution_count": 15,
   "metadata": {
    "ExecuteTime": {
     "end_time": "2020-04-28T13:06:47.569805Z",
     "start_time": "2020-04-28T13:06:47.564966Z"
    }
   },
   "outputs": [
    {
     "data": {
      "text/plain": [
       "0.5383209354534503"
      ]
     },
     "execution_count": 15,
     "metadata": {},
     "output_type": "execute_result"
    }
   ],
   "source": [
    "dog.similarity(cat)"
   ]
  },
  {
   "cell_type": "code",
   "execution_count": 16,
   "metadata": {
    "ExecuteTime": {
     "end_time": "2020-04-28T13:06:49.118474Z",
     "start_time": "2020-04-28T13:06:49.115177Z"
    }
   },
   "outputs": [
    {
     "data": {
      "text/plain": [
       "0.04397916193487976"
      ]
     },
     "execution_count": 16,
     "metadata": {},
     "output_type": "execute_result"
    }
   ],
   "source": [
    "dog.similarity(book)"
   ]
  },
  {
   "cell_type": "markdown",
   "metadata": {},
   "source": [
    "## Done !!\n",
    "\n",
    "Congratulations, now you have your aravec model running on spaCy."
   ]
  }
 ],
 "metadata": {
  "kernelspec": {
   "display_name": "Python 3",
   "language": "python",
   "name": "python3"
  },
  "language_info": {
   "codemirror_mode": {
    "name": "ipython",
    "version": 3
   },
   "file_extension": ".py",
   "mimetype": "text/x-python",
   "name": "python",
   "nbconvert_exporter": "python",
   "pygments_lexer": "ipython3",
   "version": "3.7.4"
  }
 },
 "nbformat": 4,
 "nbformat_minor": 2
}
